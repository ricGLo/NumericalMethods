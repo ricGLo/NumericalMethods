{
 "cells": [
  {
   "cell_type": "markdown",
   "id": "bcb8e845",
   "metadata": {},
   "source": [
    "Proyecto Métodos Númericos \n",
    "\n",
    "Profesor: Joaquín Peña Acevedo\n",
    "\n",
    "Alumno: Ricardo Alberto Gloria Picazzo\n",
    "\n",
    "# <center> Cuadratura Gaussiana para integrales dobles y triples </center>"
   ]
  },
  {
   "cell_type": "markdown",
   "id": "249854fb",
   "metadata": {},
   "source": [
    "## Introducción \n",
    "\n",
    "A lo largo de este proyecto se desarrolla la idea para aplicar la Cuadratura Gaussiana a integrales dobles y triples. Se implementan dos algortimos que aproximan integrales dobles y triples respectivamente usando la cuadratura Gaussiana. Se agregan tres ejemplos para cada algortimo con el proposito de probar las implementaciones. Dichos algoritmos fueron obtenidos del libro \"Numerical Analysis\" de Burden y Douglas. Antes de dichas implementaciones se agregó una explicación de la Cuadratura Gaussiana. También se desarrollan las propiedades de los polinomios de Legendre y su importancia para la Cuadratura Gaussiana. Se explica también cómo generalizar la cuadratura Gaussiana para regiones distintas a rectángulos de intervalos $[-1, 1]$. Finalmente se agragan las conclusiones del proyecto y las referencias. "
   ]
  },
  {
   "cell_type": "markdown",
   "id": "59df4500",
   "metadata": {},
   "source": [
    "## Cuadratura Gaussiana\n",
    "\n",
    "Recordamos que el método basico para aproximar integrales el la cuadratura númerica que consiste en aproximar $\\int_a^bf$ con una suma de la forma $\\sum_{i=0}^n a_i f(x_i)$. Así, la precisión de nuestra aproximación depende en la elección de los nodos $\\{ x_0, x_1, \\ldots, x_n\\}$ y los coeficientes $\\{c_0, c_1, \\ldots, c_n\\}$. Considerar nodos equiespaciados nos permite contar con formulas sencillas y fáciles de evaluar. Sin embargo, no nos asegura contar con una buena aproximación. La cuadratura Gaussiana se basa en elegir nodos $\\{x_1, \\ldots, x_n\\}\\subset [a, b]$ y coeficientes $c_1, c_2, \\ldots, c_n$ de manera de minimizar el error en la aproximación $\\sum_{i=1}^n c_if(x_i)$. Debemos elegir un total de $2n$ parametros: los nodos y los coeficientes. Los polinomios de grado igual o menor que $2n-1$ también tienen $2n$ parámetros. Por lo tanto el objetivo es que la suma $\\sum_{i=1}^n c_if(x_i)$ arroje el valor exacto de la integral $\\int_{-1}^1 P$ donde $P$ es un pololinomio de grado igual o menor que $2n-1$. \n",
    "\n",
    "\n",
    "### Polinomios de Legendre\n",
    "\n",
    "Recordemos que el espacio de funciones continuas $C^0([-1, 1], \\mathbb{R})$ es un espacio vectorial donde podemos definir el producto interno $\\langle f, g \\rangle := \\int_{-1}^1 fg$. Recordamos también que dos vectores son ortogonales si $\\langle f, g\\rangle = 0$. Un conjunto ortogonal que es importante para el problema son los Polinomios de Legendre $\\{P_n\\}_{n\\in\\mathbb{N}}$ donde cada $P_n$ es de grado $n$. Dichos polinomios satisfacen las siguientes dos propiedades:\n",
    "\n",
    "1. Para cada $n$, se tiene que $P_n$ es un polinomio mónico.\n",
    "2. $\\langle P, P_n \\rangle = \\int_{-1}^1 PP_n = 0$ siempre que $P$ sea de grado menor a $n$. \n",
    "\n",
    "Además, las raices de los Polinomios de Legendre son distintas, están contenidas es $(-1, 1)$ y son símetricas con respecto a $0$. Lo más importante es que satisfacen el\n",
    "\n",
    "**Teorema.** Sean $x_1, \\ldots, x_n$ las raíces del $n$-ésimo polinomio de Legendre $P_n(x)$. Para cada $i=1, 2, \\ldots, n$ definimos\n",
    "\n",
    "\\begin{align*}\n",
    "    c_i &:= \\int_{-1}^1 \\prod_{j=1\\\\j\\neq i}^n \\frac{x-x_j}{x_i-x_j} \\, dx. \\quad \\quad\\quad \\quad (1)\n",
    "\\end{align*}\n",
    "Si $P(x)$ es un polinomio de grado menor a $2n$, entonces\n",
    "\\begin{align*}\n",
    "    \\int_{-1}^1 P(x) \\, dx = \\sum_{i=1}^n c_iP(x_i).\n",
    "\\end{align*}\n",
    "\n",
    "### Intervalos arbitrarios\n",
    "\n",
    "Los polinomios de Legendre nos permiten aproximar integrales de la manera deseada pero sólo en el intervalo $[-1, 1]$. Sin embargo este inconveniente se puede solucionar con el Teorema de cambio de variable. Así, si deseamos estimar la integral de $f$ sobre $[a, b]$ podemos usar el cambio de variable:\n",
    "\\begin{align*}\n",
    "    t = \\frac{2x -a - b}{b-a} \\iff x = \\frac{(b-1)t + a +b}{2}\n",
    "\\end{align*}\n",
    "Entonces \n",
    "\\begin{align*}\n",
    "    \\int_a^b f(x) dx = \\frac{b-a}{2}\\int_{-1}^1 f\\left(\\frac{(b-1)t + (b+a)}{2} \\right) \\, dt.   \\quad\\quad\\quad(2)\n",
    "\\end{align*}"
   ]
  },
  {
   "cell_type": "markdown",
   "id": "62a9ea8a",
   "metadata": {},
   "source": [
    "## Integrales dobles\n",
    "\n",
    "Ya conocemos la idea de como aproximar de una muy buena manera la integral de un función $f:[a, b] \\to \\mathbb{R}$ utilizando la Cuadratura Gaussiana. Con el uso del Teorema de Fubini, podemos utilizar lo anterior para aproximar integrales de funciones $f: \\Omega \\to \\mathbb{R}$ donde $\\Omega = \\{(x, y)\\in \\mathbb{R}^2: a\\leq x \\leq b, c(x) \\leq y \\leq d(x)\\}$ y $c, d$ son funciones continuas. Esto es calcularemos \n",
    "\\begin{align*}\n",
    "    \\int_a^b \\int_{c(x)}^{d(x)} f(x, y) \\, dy \\, dx.\n",
    "\\end{align*}\n",
    "Para ello se requiere transformar, para cada $x\\in [a, b]$, la variable $y\\in [c(x, d(x)]$ en una variable $t\\in [-1, 1]$. Usando la transformación lineal:\n",
    "\n",
    "\\begin{align*}\n",
    "    f(x, y) &= f\\left( x, \\frac{(d(x) - c(x))t + d(x) + c(x)}{2}  \\right),\\\\\n",
    "    dy &= \\frac{d(x) - c(x)}{2}\\, dt.\n",
    "\\end{align*}\n",
    "\n",
    "Así, para cada $x\\in [a, b]$ se obtiene:\n",
    "\\begin{align*}\n",
    "    \\int_{c(x)}^{d(x)} f(x, y) \\, dy = \\frac{d(x)-c(x)}{2}\\int_{-1}^1 f\\left(x, \\frac{(d(x)-c(x))t + d(x) + c(x)}{2}\\right) \\, dt.\n",
    "\\end{align*}\n",
    "\n",
    "Luego, \n",
    "\\begin{align*}\n",
    "    \\int_a^b \\int_{c(x)}^{d(x)} f(x, y) \\, dy\\, dx \\approx \\int_a^b \\frac{d(x)-c(x)}{2} \\sum_{j=1}^n c_{n, j}f\\left(x, \\frac{(d(x) - c(x))r_{n, j} + d(x) + c(x)}{2} \\right)   \\, dx \\quad\\quad\\quad (3)\n",
    "\\end{align*}\n",
    "donde $r_{n, j}$ es la $j$-ésima raíz del polinomio de Legendre de grado $n$ y $c_{n, j}$ es el $j$-ésimo coeficiente definido en (1) para el polinomio de Legendre de grado $n$. \n",
    "\n",
    "Procedemos a implementar la integral Gaussiana doble:\n"
   ]
  },
  {
   "cell_type": "code",
   "execution_count": 2,
   "id": "7064a094",
   "metadata": {},
   "outputs": [],
   "source": [
    "import numpy as np\n",
    "from scipy.special import roots_legendre\n",
    "\n",
    "# Los parametros m y n determinan el número de particiones para cada eje\n",
    "def GaussianDoubleIntegral(f, a, b, c, d, m, n):\n",
    "    #importar los valores las raices y coeficientes de los polinomios de Legendre \n",
    "    r_m, c_m = roots_legendre(m, mu = False) \n",
    "    r_n, c_n = roots_legendre(n, mu = False)\n",
    "    \n",
    "    h1 = (b-a)/2\n",
    "    h2 = (b+a)/2\n",
    "    J = 0\n",
    "    for i in range(m):\n",
    "        JX = 0\n",
    "        x = h1*r_m[i] + h2\n",
    "        d1 = d(x)\n",
    "        c1 = c(x)\n",
    "        k1 = (d1 - c1)/2\n",
    "        k2 = (d1 + c1)/2\n",
    "        for j in range(n):\n",
    "            y = k1*r_n[j] + k2 \n",
    "            Q = f(x, y)\n",
    "            JX += c_n[j]*Q\n",
    "        J += c_m[i]*k1*JX \n",
    "        \n",
    "    J = h1*J\n",
    "    return J"
   ]
  },
  {
   "cell_type": "markdown",
   "id": "a9c71d96",
   "metadata": {},
   "source": [
    "Probemos la función de la integral doble implementada anteriormente.  \n",
    "\n",
    "### Ejemplo 1.1\n",
    "\n",
    "Calculemos la integral:\n",
    "\n",
    "\\begin{align*}\n",
    "    \\int_{0.1}^{0.5} \\int_{x^3}^{x^2} e^{y/x} dy dx \n",
    "    &= \\int_{0.1}^{0.5} \\left( xe^{y/x}\\right)\\bigg|_{y=x^3}^{x^2}\\, dx \\\\\n",
    "    &= \\int_{0.1}^{0.5} x(e^x - e^{x^2}) dx\\\\\n",
    "    &= \\left( e^x(x-1)-\\frac{e^{x^2}}{2}  \\right)\\bigg|_{0.1}^{0.5}.\n",
    "\\end{align*}\n",
    "\n",
    "Evaluamos para ver el valor de la integral anterior:\n"
   ]
  },
  {
   "cell_type": "code",
   "execution_count": 3,
   "id": "b51d91ad",
   "metadata": {},
   "outputs": [
    {
     "name": "stdout",
     "output_type": "stream",
     "text": [
      "El valor de la integral análitica es:  0.033305566116232255\n"
     ]
    }
   ],
   "source": [
    "def EvalAntiderivada(x):\n",
    "    r1 = np.exp(x)*(x-1)\n",
    "    r2 = np.exp(x**2)/2\n",
    "    return r1 - r2\n",
    "Ia = EvalAntiderivada(0.5) - EvalAntiderivada(0.1)\n",
    "print(\"El valor de la integral análitica es: \", Ia)"
   ]
  },
  {
   "cell_type": "markdown",
   "id": "b06af8e2",
   "metadata": {},
   "source": [
    "Así, \n",
    "\\begin{align*}\n",
    "    \\int_{0.1}^{0.5} \\int_{x^3}^{x^2} e^{y/x} dy dx  = 0.033305566116232255.\n",
    "\\end{align*}\n",
    "\n",
    "Calculemos ahora la integral de manera númerica con la función anterior:\n",
    "\n"
   ]
  },
  {
   "cell_type": "code",
   "execution_count": 4,
   "id": "87b3259d",
   "metadata": {},
   "outputs": [
    {
     "name": "stdout",
     "output_type": "stream",
     "text": [
      "La evaluación númerica de la integral es:  0.033305566118675335\n",
      "Diferencia de la integral análitica y la númerica:  2.4430804601571765e-12\n"
     ]
    }
   ],
   "source": [
    "def f(x, y):\n",
    "    return np.exp(y/x)\n",
    "def c(x):\n",
    "    return x**3\n",
    "def d(x):\n",
    "    return x**2\n",
    "\n",
    "Inum = GaussianDoubleIntegral(f, 0.1, 0.5, c, d, 5, 5)    \n",
    "print(\"La evaluación númerica de la integral es: \", Inum)\n",
    "print(\"Diferencia de la integral análitica y la númerica: \", np.abs(Ia - Inum))"
   ]
  },
  {
   "cell_type": "markdown",
   "id": "4d150c0e",
   "metadata": {},
   "source": [
    "Podemos ver que la integral númerica aproxima al valor de la integral 11 lugares decimales con sólo $mn = 25$ evaluaciones de la función. En Numerical Analysis de Burden y Faires se menciona que, para la integral anterior, con el método de Simpson para integrales dobles se obtiene una precisión de $7$ lugares decimales con $m=n=10$. Al usar $n=m=10$, se evalua la función $121$ veces."
   ]
  },
  {
   "cell_type": "markdown",
   "id": "3b13b257",
   "metadata": {},
   "source": [
    "### Ejemplo 1.2\n",
    "\n",
    "Veamos ahora la integral:\n",
    "\n",
    "\\begin{align*}\n",
    "    \\int_{-1}^1 \\int_{-2|x|}^{|x|} e^{x+y} \\, dy \\, dx\n",
    "     &= \\int_{-1}^1 (e^{x + |x|} - e^{x - 2|x|} ) \\, dx\\\\\n",
    "     &= \\int_{-1}^0 (1 - e^{3x}) \\, dx + \\int_0^1 (e^{2x} - e^{-x})\\, dx\\\\\n",
    "     &= \\left( x - \\frac{e^{3x}}{3} \\right)\\bigg|_{-1}^{0} + \\left( \\frac{e^{2x}}{2} + e^{-x} \\right)\\bigg|_{0}^1\\\\\n",
    "     &= \\frac{1}{3e^3} + \\frac{1}{e} + \\frac{e^2}{2} - \\frac{5}{6}.\n",
    "\\end{align*}\n",
    "\n",
    "Evaluamos la integral análitica:\n"
   ]
  },
  {
   "cell_type": "code",
   "execution_count": 5,
   "id": "8df21c18",
   "metadata": {},
   "outputs": [
    {
     "name": "stdout",
     "output_type": "stream",
     "text": [
      "El valor de la integral análitica es:  3.2456698467593887\n"
     ]
    }
   ],
   "source": [
    "Ia = (1/3)*np.exp(-3) + np.exp(-1) + np.exp(2)/2 - 5/6\n",
    "print(\"El valor de la integral análitica es: \", Ia)"
   ]
  },
  {
   "cell_type": "markdown",
   "id": "50c1bb30",
   "metadata": {},
   "source": [
    "Así, \n",
    "\\begin{align*}\n",
    "    \\int_{-1}^1 \\int_{-2|x|}^{|x|} e^{x+y} \\, dy \\, dx = 3.2456698467593887.\n",
    "\\end{align*}\n",
    "\n",
    "Calculamos la integral de manera númerica:"
   ]
  },
  {
   "cell_type": "code",
   "execution_count": 6,
   "id": "4dec37c1",
   "metadata": {},
   "outputs": [
    {
     "name": "stdout",
     "output_type": "stream",
     "text": [
      "La evaluación númerica de la integral es:  3.2483198878694486\n",
      "Diferencia de la integral análitica y la númerica:  0.002650041110059842\n"
     ]
    }
   ],
   "source": [
    "def f(x, y):\n",
    "    return np.exp(x+y)\n",
    "\n",
    "def c(x):\n",
    "    return -2*np.abs(x)\n",
    "\n",
    "def d(x):\n",
    "    return np.abs(x)\n",
    "\n",
    "a = -1\n",
    "b = 1\n",
    "Inum = GaussianDoubleIntegral(f, a, b, c, d, 30, 30)\n",
    "print(\"La evaluación númerica de la integral es: \", Inum)\n",
    "print(\"Diferencia de la integral análitica y la númerica: \", np.abs(Ia - Inum))"
   ]
  },
  {
   "cell_type": "markdown",
   "id": "ed79fc77",
   "metadata": {},
   "source": [
    "Notése que en este caso se obtiene una menor precisión que en el ejemplo anterior aún usando $n=m=30$. Esto se puede deber a que la región de integración en el ejemplo 1 es muy pequeño a comparación de la región de integración de éste ejemplo.  "
   ]
  },
  {
   "cell_type": "markdown",
   "id": "3c23914d",
   "metadata": {},
   "source": [
    "### Ejemplo 1.3\n",
    "\n",
    "En este ejemplo integraremos una función $f:\\mathbb{R}^2 \\to \\mathbb{R}$ donde para cada $x$ fijo, $f(x, y)$ es un polinomio de grado $4$. Usaremos $n=m=6$. Calculemos análiticamente la integral:\n",
    "\\begin{align*}\n",
    "    \\int_{-1}^1 \\int_{-1}^1 21x^2y^6 + 6x^3y^5 + 16y^3 + 6x^3y^2 + 4y + 5 \\, dy \\, dx\n",
    "    &= \\int_{-1}^1 \\left( 3x^2y^7 + x^3y^6 + 4y^4 + 2x^3y^3 + 2y^2 + 5y \\right)\\bigg|_{y=-1}^1 dx\\\\\n",
    "    &= \\int_{-1}^1 6x^2 + 4x^3 + 10 \\, dx\\\\\n",
    "    &= ( 2x^3 + x^4 + 10x)\\bigg|_{-1}^1 \\\\\n",
    "    &= 2 + 1 + 10 + 2 - 1 + 10 \\\\\n",
    "    &= 24.\n",
    "\\end{align*} \n",
    "\n",
    "Ahora evaluemos la integral de manera númerica:"
   ]
  },
  {
   "cell_type": "code",
   "execution_count": 14,
   "id": "1994da79",
   "metadata": {},
   "outputs": [
    {
     "name": "stdout",
     "output_type": "stream",
     "text": [
      "La evaluación númerica de la integral es:  24.0\n"
     ]
    }
   ],
   "source": [
    "def f(x, y):\n",
    "    r1 = (21*(x**2)*(y**6) + 6*(x**3)*(y**5) + 16*(y**3))\n",
    "    r2 = (6*(x**3)*(y**2) + 4*y + 5)\n",
    "    return r1 + r2\n",
    "\n",
    "def c(x):\n",
    "    return -1\n",
    "\n",
    "def d(x):\n",
    "    return 1\n",
    "\n",
    "a = -1\n",
    "b = 1\n",
    "Inum = GaussianDoubleIntegral(f, a, b, c, d, 5, 5)\n",
    "print(\"La evaluación númerica de la integral es: \", Inum)\n",
    "\n"
   ]
  },
  {
   "cell_type": "markdown",
   "id": "a85376f3",
   "metadata": {},
   "source": [
    "Observamos que en este caso la evaluación númerica nos da el valor exacto de la integral. Recordemos que la cuadratura de Gauss nos da el valor exacto de la integral para polinomos de grado igual o menor a $2n-1$. La función $f$ es un polinomio de grado $6$ para cada $x$ fijo. Es decir la integral interior de la integral doble es un polinomio de grado $6$. Al integrar para cada $x$ fijo se obtiene otra integral (la exterior) del polinomio $6x^2 + 4x^3 + 10$, el cual es de grado $2$. Así, al usar $n=m=5$ se obtiene el valor exacto de la integral en sólo $25$ evaluaciones de la integral. "
   ]
  },
  {
   "cell_type": "markdown",
   "id": "c2f3a119",
   "metadata": {},
   "source": [
    "## Integrales triples\n",
    "\n",
    "Nuevamente podemos aprovechar lo desarrollado para integrales dobles para aproximar integrales triples. De manera similar a como escribimos (2) y (3) podemos obtener mediante un cambio de varible: \n",
    "\\begin{align*}\n",
    "    \\int_a^b \\int_{c(x)}^{d(x)} \\int_{\\alpha(x, y)}^{\\beta(x, y)}f(x, y, z) \\, dz \\, dy\\, dx \\approx \\int_a^b \\int_{c(x)}^{d(x)}\\frac{\\beta(x)-\\alpha(x)}{2} \\sum_{j=1}^n c_{n, j}f\\left(x, y, \\frac{(\\beta(x, y) - \\alpha(x, y))r_{n, j} + \\beta(x, y) + \\alpha(x, y)}{2} \\right) \\, dy \\, dx \n",
    "\\end{align*}\n",
    "\n",
    "Implementemos así, la Integral Gaussiana Triple. "
   ]
  },
  {
   "cell_type": "code",
   "execution_count": 8,
   "id": "a7d32f0d",
   "metadata": {},
   "outputs": [],
   "source": [
    "# Los parametros m, n y p determinan el número de particiones para cada eje\n",
    "def GaussianTripleIntegral(f, a, b, c, d, alpha, beta, m, n, p):\n",
    "    #importar los valores las raices y coeficientes de los polinomios de Legendre \n",
    "    r_m, c_m = roots_legendre(m, mu = False)\n",
    "    r_n, c_n = roots_legendre(n, mu = False)\n",
    "    r_p, c_p = roots_legendre(p, mu = False)\n",
    "    \n",
    "    h1 = (b - a)/2\n",
    "    h2 = (b + a)/2\n",
    "    J = 0\n",
    "    for i in range(m):\n",
    "        JX = 0\n",
    "        x = h1*r_m[i] + h2\n",
    "        d1 = d(x)\n",
    "        c1 = c(x)\n",
    "        k1 = (d1 - c1)/2\n",
    "        k2 = (d1 + c1)/2\n",
    "        for j in range(n):\n",
    "            JY = 0\n",
    "            y = k1*r_n[j] + k2\n",
    "            beta1 = beta(x, y)\n",
    "            alpha1 = alpha(x, y)\n",
    "            l1 = (beta1 - alpha1)/2\n",
    "            l2 = (beta1 + alpha1)/2\n",
    "            for k in range(p):\n",
    "                z = l1*r_p[k] + l2\n",
    "                Q = f(x, y, z)\n",
    "                JY += c_p[k]*Q   \n",
    "            JX += c_n[j]*l1*JY   \n",
    "        J += c_m[i]*k1*JX        \n",
    "    J = h1*J\n",
    "    return J"
   ]
  },
  {
   "cell_type": "markdown",
   "id": "2cbc11c9",
   "metadata": {},
   "source": [
    "### Ejemplo 2.1 \n",
    "\n",
    "\n",
    "Calcularemos el volumen de la bola unitaria cetrada en el origen $S\\subset \\mathbb{R}^3$. El volumen de $S$ se puede calcular mediante la integral:\n",
    "\\begin{align*}\n",
    "    vol(S) := \\int_S 1 = \\int_{-1}^1 \\int_{-\\sqrt{1-x^2}}^{\\sqrt{1-x^2}} \\int_{-\\sqrt{1-x^2-y^2}}^{\\sqrt{1-x^2-y^2}} 1 \\, dz\\, dy \\, dy.\n",
    "\\end{align*}\n",
    "La integral anterior es un tanto complicada de resolver de manera análitica. Eváluemosla de manera análitica con la implementación de la cuadratura Gaussiana pa integrales triples.\n"
   ]
  },
  {
   "cell_type": "code",
   "execution_count": 9,
   "id": "2ab1a78a",
   "metadata": {},
   "outputs": [
    {
     "name": "stdout",
     "output_type": "stream",
     "text": [
      "El volumen aproximado de la esfera es:  4.188807265415295\n"
     ]
    }
   ],
   "source": [
    "def f(x, y, z):\n",
    "    return 1\n",
    "\n",
    "def c(x):\n",
    "    return -np.sqrt(1-x**2)\n",
    "\n",
    "def d(x):\n",
    "    return np.sqrt(1-x**2)\n",
    "\n",
    "def alpha(x, y):\n",
    "    return -np.sqrt(1 - x**2 - y**2)\n",
    "\n",
    "def beta(x, y):\n",
    "    return np.sqrt(1 - x**2 - y**2)\n",
    "\n",
    "a = -1\n",
    "b = 1\n",
    "\n",
    "m = 50\n",
    "n = m\n",
    "p = m\n",
    "\n",
    "Vol1 = GaussianTripleIntegral(f, a, b, c, d, alpha, beta, m, n, p)\n",
    "print(\"El volumen aproximado de la esfera es: \", Vol1)\n"
   ]
  },
  {
   "cell_type": "markdown",
   "id": "4d1233ad",
   "metadata": {},
   "source": [
    "Para calcular $vol(S)$ de manera análitica podemos utilizar el Teorema de Cambio de Variable con las coordenadas cilídricas $\\phi(r, \\theta, \\psi)=(r\\sin(\\psi)\\cos(\\theta), r\\sin(\\psi)\\sin(\\theta), r\\cos(\\psi))$ cuyo jacobiano es $J\\phi = r^2\\sin(\\psi)$. Así:\n",
    "\n",
    "\\begin{align}\n",
    "    vol(S) &:= \\int_S 1 = \\int_0^1 \\int_0^{2\\pi} \\int_0^\\pi r^2\\sin(\\psi) \\, d\\psi \\, d\\theta \\, dr \\quad\\quad(1)\\\\\n",
    "    &= \\int_0^1 r^2 \\int_0^{2\\pi} \\int_0^\\pi \\sin(\\psi) \\, d\\psi \\, d\\theta \\, dr\\\\\n",
    "    &= 2\\int_0^1 r^2 \\int_0^{2\\pi}  \\, d\\theta \\, dr\\\\\n",
    "    &= 4\\pi \\int_0^1  r^2 \\, dr\\\\\n",
    "    &= \\frac{4\\pi}{3} \n",
    "\\end{align}\n",
    "\n",
    "Evaluamos $vol(S)=\\frac{4\\pi}{3}$ y comparamos con la aproximación antes obtenida:"
   ]
  },
  {
   "cell_type": "code",
   "execution_count": 10,
   "id": "f81519fe",
   "metadata": {},
   "outputs": [
    {
     "name": "stdout",
     "output_type": "stream",
     "text": [
      "Vol(S) =  4.1887902047863905\n",
      "Error de la aproximación:  1.7060628904275177e-05\n"
     ]
    }
   ],
   "source": [
    "Vol = (4*np.pi)/3\n",
    "print(\"Vol(S) = \", Vol)\n",
    "print(\"Error de la aproximación: \", np.abs(Vol - Vol1))"
   ]
  },
  {
   "cell_type": "markdown",
   "id": "66dadf8b",
   "metadata": {},
   "source": [
    "Se obtuvo una presición de casi 4 cifras decimales utilizando $m=n=p=50$. Resolvamos ahora de manera númerica la integral descrita en (1)."
   ]
  },
  {
   "cell_type": "code",
   "execution_count": 11,
   "id": "32b1a0c8",
   "metadata": {},
   "outputs": [
    {
     "name": "stdout",
     "output_type": "stream",
     "text": [
      "El volumen aproximado de la esfera es:  4.1887902047863985\n",
      "Error de la aproximación:  7.993605777301127e-15\n"
     ]
    }
   ],
   "source": [
    "def f(r, theta, psi):\n",
    "    return (r**2)*np.sin(psi)\n",
    "\n",
    "def c(r):\n",
    "    return 0\n",
    "\n",
    "def d(r):\n",
    "    return 2*np.pi\n",
    "\n",
    "def alpha(r, theta):\n",
    "    return 0\n",
    "\n",
    "def beta(r, theta):\n",
    "    return np.pi\n",
    "\n",
    "a = 0\n",
    "b = 1\n",
    "\n",
    "m = 50\n",
    "n = m\n",
    "p = m\n",
    "\n",
    "Vol2 = GaussianTripleIntegral(f, a, b, c, d, alpha, beta, m, n, p)\n",
    "print(\"El volumen aproximado de la esfera es: \", Vol2)\n",
    "print(\"Error de la aproximación: \", np.abs(Vol - Vol2))\n"
   ]
  },
  {
   "cell_type": "markdown",
   "id": "7008df76",
   "metadata": {},
   "source": [
    "Con el planteamiteto usando coordenadas esfericas se obtuvo una muy buena presisión de 14 cifras decimales. "
   ]
  },
  {
   "cell_type": "markdown",
   "id": "050717c4",
   "metadata": {},
   "source": [
    "## Ejemplo 2.2\n",
    "\n",
    "Veamos un análogo para $\\mathbb{R}^3$ del Ejemplo 1.3. Probemos la implementación de la cuadratura de Gauss para integrales triples con una función $f:\\mathbb{R}^3\\to \\mathbb{R}$ tal que fijando cada par de variables, $f$ es un polinomio de grado menor o igual a 4. Resolvamos así la integral:\n",
    "\\begin{align*}\n",
    "    \\int_{-1}^1 \\int_{-1}^1 \\int_{-1}^1 (8xyz - 60x^5y^4z + 4z - 14yz + 2x + 10) \\, dz\\, dy \\, dx\n",
    "    &= \\int_{-1}^1\\int_{-1}^1 (4xyz^2 - 30x^5y^4z^2 + 2z^2 - 7yz + 2xz + 10z)\\bigg|_{-1}^1 \\, dy\\, dx\\\\\n",
    "    &= \\int_{-1}^1 \\int_{-1}^1 (-14y + 4x + 20) \\, dy\\, dx\\\\\n",
    "    &= \\int_{-1}^1 (-7y^2 + 4xy + 20y)\\bigg|_{-1}^1 \\, dx\\\\\n",
    "    &= \\int_{-1}^1 (8x + 40) \\, dx\\\\\n",
    "    &= (4x^2 + 40x)\\bigg|_{-1}^1 \\\\\n",
    "    &= 80.\n",
    "\\end{align*}\n",
    "\n",
    "Esperamos que el algoritmo arroje el resultado exacto de la integral:"
   ]
  },
  {
   "cell_type": "code",
   "execution_count": 12,
   "id": "611336c5",
   "metadata": {},
   "outputs": [
    {
     "name": "stdout",
     "output_type": "stream",
     "text": [
      "El valor de la integral es:  80.0\n"
     ]
    }
   ],
   "source": [
    "def f(x, y, z):\n",
    "    return (8*x*y*z - 60*(x**5)*(y**4)*z - 4*z - 14*y*z + 2*x + 10)\n",
    "\n",
    "def c(x):\n",
    "    return -1\n",
    "\n",
    "def d(x):\n",
    "    return 1\n",
    "\n",
    "def alpha(x, y):\n",
    "    return -1\n",
    "\n",
    "def beta(x, y):\n",
    "    return 1\n",
    "\n",
    "a = -1\n",
    "b = 1\n",
    "\n",
    "m = 7\n",
    "n = m\n",
    "p = m\n",
    "\n",
    "I = GaussianTripleIntegral(f, a, b, c, d, alpha, beta, m, n, p)\n",
    "print(\"El valor de la integral es: \", I)\n",
    "\n"
   ]
  },
  {
   "cell_type": "markdown",
   "id": "adda01bd",
   "metadata": {},
   "source": [
    "### Ejemplo 2.3\n",
    "\n",
    "Recordemos que el centro de masa de un solido $S\\subset \\mathbb{R}$ con función de densidad $\\delta$ es $(\\overline{x}, \\overline{y}, \\overline{z})$ donde\n",
    "\\begin{align*}\n",
    "    \\overline{x} := \\frac{\\int_S \\delta x}{\\int_S \\delta}, \\quad\n",
    "    \\overline{y} := \\frac{\\int_S \\delta y}{\\int_S \\delta},\\quad\\text{y}\\quad\n",
    "    \\overline{z} := \\frac{\\int_S \\delta z}{\\int_S \\delta}. \n",
    "\\end{align*}\n",
    "\n",
    "Calcularemos el centro de masa del cono $S\\subset\\mathbb{R}^3$ dado por $z^2 = x^2 + y^2$ y acotado por el plano $z=2$. ![title](f1.png)\n",
    "\n",
    "\n",
    "Supondremos que el $S$ tiene una función de densidad de $\\delta(x, y, z) = \\sqrt{x^2 + y^2}$. \n",
    "\n",
    "Primero calcularemos el centro de masa de manera análitica utilizando el Teorema de cambio de variable con las coordenadas cilídricas $\\phi(r, \\theta, z) = (r\\cos(\\theta), r\\sin(\\theta), z)$. Recordamos que el jacobiano de $\\phi$ es $J\\phi=r$. Se tiene además que $\\delta(x, y, z) = \\sqrt{x^2+y^2} = r$. Así,\n",
    "\n",
    "\\begin{align*} \n",
    "    \\int_S \\delta &= \\int_0^2 \\int_0^z \\int_0^{2\\pi} r^2 \\, d\\theta \\, dr\\, dz\n",
    "    = 2\\pi \\int_0^2 \\int_0^z r^2 \\, dr\\, dz\n",
    "    = \\frac{2\\pi}{3} \\int_0^2 z^3 \\, dz\n",
    "    = \\frac{2\\pi}{12} (16) = \\frac{8\\pi}{3},\\\\\n",
    "    \\int_S \\delta x &= \\int_0^2 \\int_0^z \\int_0^{2\\pi} r^2 \\cos(\\theta) \\, d\\theta\\, dr\\, dz \n",
    "    = \\int_0^2 \\int_0^z r^2 \\int_0^{2\\pi}  \\cos(\\theta) \\, d\\theta\\, dr\\, dz \n",
    "    = \\int_0^2 \\int_0^z r^2 (0) \\, dr\\, dz = 0,\\\\\n",
    "    \\int_S \\delta y &= \\int_0^2 \\int_0^z \\int_0^{2\\pi} r^2 \\sin(\\theta) \\, d\\theta\\, dr\\, dz \n",
    "    = \\int_0^2 \\int_0^z r^2 \\int_0^{2\\pi}  \\sin(\\theta) \\, d\\theta\\, dr\\, dz \n",
    "    = \\int_0^2 \\int_0^z r^2 (0) \\, dr\\, dz = 0,\\\\\n",
    "    \\int_S \\delta z &= \\int_0^2\\int_0^z\\int_0^{2\\pi} r^2 z \\, d\\theta \\, dr \\, dz \n",
    "    = 2\\pi \\int_0^2 z\\int_0^z r^2 \\, dr\\, dz \n",
    "    = \\frac{2\\pi}{3} \\int_0^2 r^4 \\, dr = \\frac{2\\pi}{15}(2^5) = \\frac{64\\pi}{15}.\n",
    "\\end{align*}\n",
    "\n",
    "Así, el centro de masa de $S$ es exactamente\n",
    "\\begin{align*}\n",
    "    (\\overline{x}, \\overline{y}, \\overline{z}) = \\left( 0, 0, \\frac{64\\pi\\cdot 3}{15\\cdot 8\\pi} \\right) =  \\left(0, 0, \\frac{8}{5} \\right) = (0, 0, 1.6).\n",
    "\\end{align*}\n",
    "\n",
    "Supongamos que no conocemos el Teorema del Cambio de Variable. Así, las integrales anteriores se vuelven un tanto complicadas de evaluar:\n",
    "\\begin{align*}\n",
    "    \\int_S \\delta &= \\int_{-2}^2 \\int_{-\\sqrt{4-x^2}}^{\\sqrt{4-x^2}} \\int_{\\sqrt{x^2 + y^2}}^2 \\sqrt{x^2 + y^2} \\, dz\\, dy\\, dx, \\\\\n",
    "    \\int_S \\delta x &= \\int_{-2}^2 \\int_{-\\sqrt{4-x^2}}^{\\sqrt{4-x^2}} \\int_{\\sqrt{x^2 + y^2}}^2 x\\sqrt{x^2 + y^2} \\, dz\\, dy\\, dx, \\\\\n",
    "    \\int_S \\delta y &= \\int_{-2}^2 \\int_{-\\sqrt{4-x^2}}^{\\sqrt{4-x^2}} \\int_{\\sqrt{x^2 + y^2}}^2 y\\sqrt{x^2 + y^2} \\, dz\\, dy\\, dx, \\\\\n",
    "    \\int_S \\delta z &= \\int_{-2}^2 \\int_{-\\sqrt{4-x^2}}^{\\sqrt{4-x^2}} \\int_{\\sqrt{x^2 + y^2}}^2 z\\sqrt{x^2 + y^2} \\, dz\\, dy\\, dx.\n",
    "\\end{align*}\n",
    "\n",
    "Así, necesitamos evaluar las integrales anteriores de manera númerica.\n"
   ]
  },
  {
   "cell_type": "code",
   "execution_count": 13,
   "id": "7bf3fd2d",
   "metadata": {},
   "outputs": [
    {
     "name": "stdout",
     "output_type": "stream",
     "text": [
      "El centro de masa obtenido es (x, y, z) donde: \n",
      "x =  0.0\n",
      "y =  1.1671287553528939e-17\n",
      "z =  1.6495126045634954\n",
      "Error:\n",
      "\tLa distancia entre ambos centros de masa es de  0.049512604563495266\n"
     ]
    }
   ],
   "source": [
    "def delta(x, y, z):\n",
    "    r = np.sqrt(x**2 + y**2)\n",
    "    return r\n",
    "\n",
    "def delta_x(x, y, z):\n",
    "    r = np.sqrt(x**2 + y**2)\n",
    "    return x*r\n",
    "\n",
    "def delta_y(x, y, z):\n",
    "    r = np.sqrt(x**2 + y**2)\n",
    "    return y*r\n",
    "\n",
    "def delta_z(x, y, z):\n",
    "    r = np.sqrt(x**2 + y**2)\n",
    "    return z*r\n",
    "\n",
    "def c(x):\n",
    "    r = np.sqrt(4 - x**2)\n",
    "    return -r\n",
    "\n",
    "def d(x):\n",
    "    r = np.sqrt(4 - x**2)\n",
    "    return r\n",
    "\n",
    "def alpha(x, y):\n",
    "    return np.sqrt(x**2 + y**2)\n",
    "\n",
    "def beta(x, y):\n",
    "    return 2\n",
    "\n",
    "a = -2\n",
    "b = 2\n",
    "\n",
    "m = 5\n",
    "n = m\n",
    "p = m\n",
    "\n",
    "I = GaussianTripleIntegral(delta, a, b, c, d, alpha, beta, m, n, p)\n",
    "I_yz = GaussianTripleIntegral(delta_x, a, b, c, d, alpha, beta, m, n, p)\n",
    "I_xz = GaussianTripleIntegral(delta_y, a, b, c, d, alpha, beta, m, n, p)\n",
    "I_xy = GaussianTripleIntegral(delta_z, a, b, c, d, alpha, beta, m, n, p)\n",
    "\n",
    "print(\"El centro de masa obtenido es (x, y, z) donde: \")\n",
    "x = I_yz/I\n",
    "y = I_xz/I\n",
    "z = I_xy/I\n",
    "print(\"x = \", x)\n",
    "print(\"y = \", y)\n",
    "print(\"z = \", z)\n",
    "\n",
    "centro_masa = np.array([x, y, z])\n",
    "exacto = np.array([0, 0, 1.6])\n",
    "\n",
    "print(\"Error:\\n\\tLa distancia entre ambos centros de masa es de \", np.linalg.norm(centro_masa - exacto))"
   ]
  },
  {
   "cell_type": "markdown",
   "id": "da827469",
   "metadata": {},
   "source": [
    "Las cuatro integrales fueron evaludas con $m=n=p=5$, lo cual implica la evaluación de 125 de cada integrando. El valor que arroja el algoritmo para $\\overline{x}$ es el exacto. Mientras que para $\\overline{y}$ se obtiene un error muy pequeño. Sin embargo, para $\\overline{z}$ se obtiene sólo una exactitud de dos cifras decimales."
   ]
  },
  {
   "cell_type": "markdown",
   "id": "c4b2141a",
   "metadata": {},
   "source": [
    "## Conclusiones\n",
    "El método de la Cuadratura Gaussiana nos permite aproximar funciones de una manera precisa. Además al ser un método númerico de cuadratura, la implementación del algoritmo es sencilla. Al ser un método preciso, es también un método eficiente por nos brinda una muy buena aproximación sin la necesidad de evaluar el integrando una gran catidad de veces. Cabe mencionar que a lo largo del proyecto no se profundizó en el cálculo de las raices de los polinomios de Legendre ni de los coeficeintes definidos en (1). En esté proyecto dichas raices y coeficientes se obtuvieron de la libreria scipy. Sería interesante ver la implementación númerica del cálculo de las raices y coeficientes de Legendre. Pues son fundamentales para este proyecto.\n",
    "\n",
    "## Referencias\n",
    "\n",
    "Burden, R. & Faires, J.. (2011). Numerical Differentiation and Integration. En Numerical Analysis(pp. 193-250). Boston: Cengage Learning."
   ]
  }
 ],
 "metadata": {
  "kernelspec": {
   "display_name": "Python 3 (ipykernel)",
   "language": "python",
   "name": "python3"
  },
  "language_info": {
   "codemirror_mode": {
    "name": "ipython",
    "version": 3
   },
   "file_extension": ".py",
   "mimetype": "text/x-python",
   "name": "python",
   "nbconvert_exporter": "python",
   "pygments_lexer": "ipython3",
   "version": "3.10.4"
  }
 },
 "nbformat": 4,
 "nbformat_minor": 5
}
