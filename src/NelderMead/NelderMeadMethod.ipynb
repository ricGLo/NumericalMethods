{
 "cells": [
  {
   "cell_type": "markdown",
   "id": "1efd30b1",
   "metadata": {},
   "source": [
    "Proyecto de Optimización\n",
    "\n",
    "Ricardo Gloria\n",
    "\n",
    "# Método de Nelder-Mead"
   ]
  },
  {
   "cell_type": "markdown",
   "id": "4d5185d2",
   "metadata": {},
   "source": [
    "## Introducción \n",
    "\n",
    "En este proyecto se trabajó con el método de Nelder-Mead. El cual es de los métodos de optimización sin derivadas más utilizados. Es un método de busqueda directa. En varias ocaciones se utiliza para problemas de optimización que no son lineales en los que las derivadas no se conocen. El método fue propuesto por John Nelder y Roger Mead en el año de 1965. La técnica del algoritmo es una técnica de busqueda mediante una heurística que puede converger a puntos que no son estacionarios. El método mantiene un simplejo de $n+1$ puntos, donde $n$ es la dimensión del dominio de la función. En cada iteración se va modificando el peor punto de los $n+1$ puntos.  \n",
    "\n",
    "En la primera parte del proyecto se describe el algoritmo. En esta sección se utiliza el archivo auxiliar [N-M.pdf](N-M.pdf) donde se ilustra cómo el algoritmo va tomando las decisiones para optimizar la función. En la siguiente sección se implementa la función Nelder_Mead. A parte de los parámetros que se explican en la descripción, hay un par de parámetros sobre gráficar los puntos o triángulos que va encontrando el algoritmo. Esto para el caso $n=2$. \n",
    "\n",
    "Posteriormente se hacen cuatro pruebas. Las primeras dos son con funciones $f:\\mathbb{R}^2\\to \\mathbb{R}$. La primera es la función Rosenbrock donde se grafíca en el punto optimo en cada iteración. La segunda prueba se hace con una prueba con una función sencilla para que el algortimo converga en pocos pasos y poder gráficar en cada iteración el triángulo que va manteniendo el método. Las otras dos funciones son para probar el método en varias dimensiones mayores. Se utilizan las funciones de la tarea 8 y se prueban de manera similar a la misma tarea variando la dimensión $n$ y viendo los resultados obtenidos. Finalmente se agregan las conclusiones y referencias.\n",
    "\n"
   ]
  },
  {
   "cell_type": "markdown",
   "id": "7ad68e71",
   "metadata": {},
   "source": [
    "## Descripcción del algoritmo\n",
    "\n",
    "El método de Nelder-Mead mantiene un simplejo $S$ de $n+1$ aproximaciones al punto optimo donde $n$ es la dimensión del dominio de la función a aproximar. Dichas aproximaciones $\\{x_j\\}_{j=1}^{n+1}$ estan ordenadas de forma que \n",
    "\n",
    "\\begin{align*}\n",
    "    f(x_1) \\leq f(x_2) \\leq \\cdots \\leq f(x_n) \\leq f(x_{n+1}).\n",
    "\\end{align*}\n",
    "\n",
    "El algoritmo intenta reemplazar en cada iteración el peor punto $x_{n+1}$ por un nuevo punto de la forma \n",
    "\\begin{align*}\n",
    "    x(\\mu) = \\overline{x} + \\mu(x_{n+1} - \\overline{x})\n",
    "\\end{align*}\n",
    "donde $\\overline{x}$ es el centroide del simplejo de los primeros $n$ puntos $\\{x_j\\}_{j=1}^n$. Esto es\n",
    "\\begin{align*}\n",
    "    \\overline{x} = \\frac{1}{n}\\sum_{i=1}^n x_i.\n",
    "\\end{align*}\n",
    "\n",
    "El valor de $\\mu$ toma alguno de los siguientes valores:\n",
    "\\begin{align*}\n",
    "    \\mu_r &= -1,\\\\\n",
    "    \\mu_e &= -2,\\\\\n",
    "    \\mu_{oc} &= -1/2,\\\\\n",
    "    \\mu_{ic} &= 1/2.\n",
    "\\end{align*}\n",
    "donde $\\mu_r$ corresponde a la reflexición del peor vertice, $\\mu_e$ a la expanción, $\\mu_{oc}$ a la contracción exterior y $\\mu_{ic}$ a la contracción interior. Los valores de $\\mu$ anteriores son los usuales aunque pueden ser modificados de manera que cumplan con \n",
    "\\begin{align*}\n",
    "    \\mu_e < \\mu_r < \\mu_{oc} < 0 < \\mu_{ic} < 1.\n",
    "\\end{align*}\n",
    "En caso de que en alguna iteración, el algoritmo no pueda reemplazar al peor punto, se hace un encojimiento del simplejo sustituyendo a cada punto distinto del primero por:\n",
    "\\begin{align*}\n",
    "    x_j = x_j + \\sigma(x_j - x_1), \\quad j = 2, \\ldots, n+1.\n",
    "\\end{align*}\n",
    "donde usualmente $\\sigma=1/2$.\n",
    "\n",
    "En el archivo [N-M.pdf](N-M.pdf) se explica cómo el método de Nelder-Mead decide que valor de $\\mu$ utilizar o si se debe hacer un encojimiento del simplejo. Dicho archivo se ilustra con un ejemplo en $\\mathbb{R}^2$ donde el simplejo es un triángulo ($n+1$ puntos).\n"
   ]
  },
  {
   "cell_type": "markdown",
   "id": "52902076",
   "metadata": {},
   "source": [
    "## Implementación \n",
    "\n",
    "En la siguiente celda implementamos el método de Nelder-Mead:"
   ]
  },
  {
   "cell_type": "code",
   "execution_count": 1,
   "id": "e3b6f8f2",
   "metadata": {},
   "outputs": [],
   "source": [
    "import numpy as np\n",
    "\n",
    "def Nelder_Mead(S, f, N, tau = 0.00000001, mu_r = -1, mu_e = -2, mu_oc = -0.5, mu_ic = 0.5, sgm = 0.5, graph_P = False, graph_T = False):\n",
    "    n = len(S[0]) #dimension\n",
    "    k = 0 #numero de iteraciones\n",
    "\n",
    "    # ordenamiento\n",
    "    f_S = np.array([f(x) for x in S])\n",
    "    s_idx = np.argsort(f_S)  #sorted indices    \n",
    "    x = np.array([S[idx] for idx in s_idx])\n",
    "\n",
    "    while k < N and f(x[n]) - f(x[0]) >= tau :\n",
    "        if graph_P: ## graficar x_1 en caso n = 2\n",
    "            plt.scatter(x[0][0], x[0][1], color = \"red\")\n",
    "        if graph_T: ## graficar triangulos en caso n = 2\n",
    "            plt.plot([x[0][0], x[1][0]], [x[0][1], x[1][1]], color = \"red\")\n",
    "            plt.plot([x[1][0], x[2][0]], [x[1][1], x[2][1]], color = \"red\")\n",
    "            plt.plot([x[2][0], x[0][0]], [x[2][1], x[0][1]], color = \"red\")\n",
    "        \n",
    "        k += 1\n",
    "        x_bar = np.mean(x[:n], axis = 0)\n",
    "        x_mu_r = x_bar + mu_r*(x[n] - x_bar)\n",
    "        f_r = f(x_mu_r)\n",
    "        f_n = f(x[n-1])\n",
    "        f_1 = f(x[0])\n",
    "\n",
    "        if f_1 <= f_r and f_r < f_n: #Reflexion\n",
    "            x[n] = x_mu_r\n",
    "\n",
    "        elif f_r < f_1:\n",
    "            x_mu_e = x_bar + mu_e*(x[n] - x_bar)\n",
    "            f_e = f(x_mu_e)\n",
    "            if f_e < f_r: #expandir\n",
    "                x[n] = x_mu_e\n",
    "            else:\n",
    "                x[n] = x_mu_r #reflejar\n",
    "\n",
    "        else:\n",
    "            f_n1 = f(x[n])\n",
    "            x_mu_ic = x_bar + mu_ic*(x[n] - x_bar)\n",
    "            f_ic = f(x_mu_ic)\n",
    "\n",
    "            x_mu_oc = x_bar + mu_oc*(x[n] - x_bar)\n",
    "            f_oc = f(x_mu_oc)\n",
    "\n",
    "            flag = True #bandera para saber si es necesario un encojimiento\n",
    "            if f_r < f_n1:\n",
    "                if f_oc <= f_r: #contraccion exterior\n",
    "                    flag = False\n",
    "                    x[n] = x_mu_oc\n",
    "            \n",
    "            elif f_ic < f_n1: #contracción interior\n",
    "                flag = False\n",
    "                x[n] = x_mu_ic\n",
    "\n",
    "            \n",
    "            if flag: # encojimiento\n",
    "                for j in range(1, n+1):\n",
    "                    x[j] = x[0] + sgm*(x[j]-x[0])\n",
    "\n",
    "        ## Ordenamiento de vertices para la siguiente iteracion\n",
    "        f_S = np.array([f(vec) for vec in x])\n",
    "        s_idx = np.argsort(f_S)\n",
    "        x_aux = np.copy(x)    \n",
    "        x = np.array([x_aux[idx] for idx in s_idx])\n",
    "\n",
    "\n",
    "    return x, k\n"
   ]
  },
  {
   "cell_type": "markdown",
   "id": "8c7b0cfb",
   "metadata": {},
   "source": [
    "## Prueba 1\n",
    "\n",
    "En este ejemplo probamos el método de Nelder Mead con la función Rosenbrock $f:\\mathbb{R}^2\\to \\mathbb{R}$. Graficamos el triángulo inicial en la vista 2D de la función y luego graficamos el mejor vertice $x_1$ en cada iteración. Asimismo imprimimos el mejor vértice final y el número de iteraciones que se hicieron.  "
   ]
  },
  {
   "cell_type": "code",
   "execution_count": 2,
   "id": "877effbd",
   "metadata": {},
   "outputs": [
    {
     "name": "stdout",
     "output_type": "stream",
     "text": [
      "x1 =  [0.99987769 0.99975625]\n",
      "Numero de iteraciones:  62\n"
     ]
    },
    {
     "data": {
      "image/png": "[encoded data removed]",
      "text/plain": [
       "<Figure size 432x288 with 1 Axes>"
      ]
     },
     "metadata": {
      "needs_background": "light"
     },
     "output_type": "display_data"
    }
   ],
   "source": [
    "import matplotlib.pyplot as plt\n",
    "from mpl_toolkits import mplot3d\n",
    "from mpl_toolkits.mplot3d import Axes3D\n",
    "plt.rcParams['figure.figsize'] = [20, 10]\n",
    "\n",
    "def Rosenbrock_vec(x):\n",
    "    return (100*(x[1]-x[0]**2)**2 + (1-x[0])**2)\n",
    "def Rosenbrock(x, y):\n",
    "    return (100*(y-x**2)**2 + (1-x)**2)\n",
    "\n",
    "#Graficar vista 2D de la función Rosenbrock \n",
    "X = np.linspace(-1.5, 2, num = 200)\n",
    "Y = np.linspace(-1, 2, num = 200)\n",
    "X, Y = np.meshgrid(X, Y)\n",
    "Z = Rosenbrock(X, Y)\n",
    "extent = np.min(X), np.max(X), np.min(Y), np.max(Y)\n",
    "plt.imshow(Z, alpha = 0.9, interpolation ='nearest', extent = extent)\n",
    "\n",
    "## Resolver problema de optimización con el metodo Nelder Mead\n",
    "x1 = np.array([1.8, 1])\n",
    "x2 = np.array([0, 0.5])\n",
    "x3 = np.array([0.5, -0.5])\n",
    "S = np.array([x1, x2, x3])\n",
    "sol = Nelder_Mead(S, Rosenbrock_vec, 100000, graph_P = True)\n",
    "\n",
    "##Graficar triangulo inicial\n",
    "plt.plot([x1[0], x2[0]], [x1[1], x2[1]], color = \"orange\", label = \"Initial triangle\")\n",
    "plt.plot([x2[0], x3[0]], [x2[1], x3[1]], color = \"orange\")\n",
    "plt.plot([x3[0], x1[0]], [x3[1], x1[1]], color = \"orange\")\n",
    "\n",
    "#Punto solución\n",
    "plt.scatter(sol[0][0], sol[0][1], color = \"yellow\", label = \"OUTPUT\")\n",
    "\n",
    "plt.legend()\n",
    "plt.title(\"Vista en $\\mathbb{R}^2$ de la función Rosenbrock\")\n",
    "print(\"x1 = \", sol[0][0])\n",
    "print(\"Numero de iteraciones: \", sol[1])\n",
    "\n"
   ]
  },
  {
   "cell_type": "markdown",
   "id": "287a7587",
   "metadata": {},
   "source": [
    "## Prueba 2\n",
    "\n",
    "El proposito de esta prueba será graficar los triángulo del algoritmo en cada iteración. Para ello utilizaremos una función que se optimice en pocas iteraciones para no tener que gráficar tantos triángulos. Utilizaremos la función \n",
    "\\begin{align*}\n",
    "    f : \\mathbb{R}^2 &\\to \\mathbb{R},\\\\\n",
    "        (x, y) &\\mapsto \\frac{x^2+y^2}{4}\n",
    "\\end{align*}\n",
    "la cual tiene un optimo en $f(0, 0) = 0$. "
   ]
  },
  {
   "cell_type": "code",
   "execution_count": 4,
   "id": "5d8a319a",
   "metadata": {},
   "outputs": [
    {
     "name": "stdout",
     "output_type": "stream",
     "text": [
      "x1 =  [0 0]\n",
      "Numero de iteraciones:  8\n"
     ]
    },
    {
     "data": {
      "image/png": "[encoded data removed]",
      "text/plain": [
       "<Figure size 432x288 with 1 Axes>"
      ]
     },
     "metadata": {
      "needs_background": "light"
     },
     "output_type": "display_data"
    }
   ],
   "source": [
    "def func(x):\n",
    "    return (x[0]**2 + x[1]**2)/4\n",
    "def func_g(x, y):\n",
    "    return (x**2 + y**2)/4\n",
    "\n",
    "## Resolver el problema de optimizacion\n",
    "x1 = np.array([4, 6])\n",
    "x2 = np.array([-5, 0])\n",
    "x3 = np.array([-4, 6])\n",
    "S = np.array([x1, x2, x3])\n",
    "sol = Nelder_Mead(S, func, 100000, graph_T = True)\n",
    "\n",
    "#Graficar vista 2D de la función Rosenbrock \n",
    "X = np.linspace(-8, 8, num = 500)\n",
    "Y = np.linspace(-6, 8, num = 500)\n",
    "X, Y = np.meshgrid(X, Y)\n",
    "Z = func_g(X, Y)\n",
    "extent = np.min(X), np.max(X), np.min(Y), np.max(Y)\n",
    "plt.imshow(Z, alpha = 0.9, interpolation ='nearest', extent = extent)\n",
    "\n",
    "\n",
    "##Graficar triangulo inicial\n",
    "plt.plot([x1[0], x2[0]], [x1[1], x2[1]], color = \"orange\", label = \"Initial triangle\")\n",
    "plt.plot([x2[0], x3[0]], [x2[1], x3[1]], color = \"orange\")\n",
    "plt.plot([x3[0], x1[0]], [x3[1], x1[1]], color = \"orange\")\n",
    "\n",
    "\n",
    "#Punto solución\n",
    "plt.scatter(sol[0][0], sol[0][1], color = \"yellow\", label = \"OUTPUT\")\n",
    "\n",
    "plt.title(\"Vista en $\\mathbb{R}^2$ de la función\")\n",
    "plt.legend()\n",
    "\n",
    "print(\"x1 = \", sol[0][0])\n",
    "print(\"Numero de iteraciones: \", sol[1])"
   ]
  },
  {
   "cell_type": "markdown",
   "id": "5648b363",
   "metadata": {},
   "source": [
    "## Prueba 3\n",
    "\n",
    "En esta prueba usaremos la función generalizada de Rosenbrock para probar el algoritmo de Nelder Mead en espacios de dimensión mayor. Recordamos del curso que la función generalizada de Rosenbrock esta dada por\n",
    "\\begin{align*}\n",
    "    f(x) = \\sum_{i=1}^{n-1} [100(x_{i+1} - x_i^2)^2 + (1 - x_i)^2].\n",
    "\\end{align*}\n",
    "Para $n=3$ la función $f$ tiene exactamente una mínimo en $(1, 1, 1)$. Para dimensiones mayores $f$ tiene un mínimo global en $x_{\\min} = (1, 1, \\ldots, 1)$ y un mínimo local en $x_{\\min}' = (-1, 1, \\ldots, 1)$. Para probar el algoritmo, como simplejo inicial se dan $n+1$ puntos de la forma\n",
    "\\begin{align*}\n",
    "    (v_0, v_1, \\ldots, v_{n-1})\n",
    "\\end{align*}\n",
    "donde $v_i = 1$ si $i$ es par y si $i$ es impar, $v_i$ es un número aleatorio con distribución uniforme en el intervalo $[-0.5, 1]$. \n",
    "\n",
    "Correremos el método con $n=5, 10, 15, 20, 25, 30$. En cada prueba imprimieremos el mejor vertice $x_1$ del simplejo de $n+1$ vertices. También se imprimirá el número de iteraciones necesarias y la norma del gradiente evaluado en $x_1$."
   ]
  },
  {
   "cell_type": "code",
   "execution_count": 5,
   "id": "80f40bf5",
   "metadata": {},
   "outputs": [
    {
     "name": "stdout",
     "output_type": "stream",
     "text": [
      "\tFunción Rosenbrock\n",
      "n =  5\n",
      "Mejor vértice: \n",
      "[0.99999904 1.         0.99999657 1.         1.00000504]\n",
      "f(x_1) =  8.792639639959021e-09\n",
      "||g(x_1)|| =  0.004110450811023152\n",
      "Numero de iteraciones:  4 \n",
      "\n",
      "\n",
      "n =  10\n",
      "Mejor vértice: \n",
      "[ 0.9999983731471087   1.0   1.0000002460757877   1.0  ...  1.000000636286472   1.0   1.0000017498133429   1.0 ]\n",
      "f(x_1) =  3.883325111572458e-09\n",
      "||g(x_1)|| =  0.003197109102048584\n",
      "Numero de iteraciones:  9 \n",
      "\n",
      "\n",
      "n =  15\n",
      "Mejor vértice: \n",
      "[ 0.999999300406448   1.0   0.9999993785888653   1.0  ...  1.0   1.0000005092505853   1.0   0.9999992222832769 ]\n",
      "f(x_1) =  3.7806031143780634e-09\n",
      "||g(x_1)|| =  0.0032371575526485936\n",
      "Numero de iteraciones:  14 \n",
      "\n",
      "\n",
      "n =  20\n",
      "Mejor vértice: \n",
      "[ 1.0000016082289866   1.0   1.0000004610104396   1.0  ...  0.9999998134761933   1.0   0.9999995810288853   1.0 ]\n",
      "f(x_1) =  6.476493097992577e-09\n",
      "||g(x_1)|| =  0.003953956976906349\n",
      "Numero de iteraciones:  19 \n",
      "\n",
      "\n",
      "n =  25\n",
      "Mejor vértice: \n",
      "[ -0.9949760202512942   1.0   1.0000009852915213   1.0  ...  1.0   1.0000005189410155   1.0   1.0000027747882934 ]\n",
      "f(x_1) =  3.9899748142181513\n",
      "||g(x_1)|| =  2.0041518222798516\n",
      "Numero de iteraciones:  24 \n",
      "\n",
      "\n",
      "n =  30\n",
      "Mejor vértice: \n",
      "[ 0.9999985388851744   1.0   0.9999996356285796   1.0  ...  0.999999735408411   1.0   1.0000003686244945   1.0 ]\n",
      "f(x_1) =  1.4181060625632793e-08\n",
      "||g(x_1)|| =  0.005904006688135684\n",
      "Numero de iteraciones:  29 \n",
      "\n",
      "\n"
     ]
    }
   ],
   "source": [
    "from scipy.stats import uniform\n",
    "\n",
    "def Rosenbrock(x):\n",
    "    n = len(x)\n",
    "    s = 0\n",
    "    for j in range(n-1):\n",
    "        s += (100*(x[j+1]-x[j]**2)**2 + (1-x[j])**2)\n",
    "    return s\n",
    "\n",
    "def grad_R(x):\n",
    "    n = len(x)\n",
    "    g = np.zeros(n)\n",
    "    for j in range(n-1):\n",
    "        g[j] += -400*x[j]*(x[j+1]-x[j]**2) - 2*(1-x[j])\n",
    "    for j in range(1, n):\n",
    "        g[j] += 200*(x[j]-x[j-1]**2)\n",
    "    return g\n",
    "\n",
    "def imprimir_vec(x):\n",
    "    if len(x) > 8:\n",
    "        print(\"[\", x[0], \" \", x[1], \" \", x[2], \" \", x[3], \" ... \", x[n-4], \" \", x[n-3], \" \", x[n-2], \" \", x[n-1], \"]\") \n",
    "    else:\n",
    "        print(x)\n",
    "\n",
    "print(\"\\tFunción Rosenbrock\")\n",
    "for n in [5, 10, 15, 20, 25, 30]:\n",
    "    print(\"n = \", n)\n",
    "    S = []\n",
    "    for j in range(n+1):\n",
    "        x = np.ones(n)\n",
    "        for k in range(n):\n",
    "            if k%2 == 0:\n",
    "                x[k] = uniform.rvs(loc = -0.5, scale = 1.5)\n",
    "        S.append(x)\n",
    "    S = np.array(S)\n",
    "    sol = Nelder_Mead(S, Rosenbrock, 1000000)\n",
    "    print(\"Mejor vértice: \")\n",
    "    imprimir_vec(sol[0][0])\n",
    "    print(\"f(x_1) = \", Rosenbrock(sol[0][0]))\n",
    "    print(\"||g(x_1)|| = \", np.linalg.norm( grad_R(sol[0][0]) ))\n",
    "    print(\"Numero de iteraciones: \", k, \"\\n\\n\")\n",
    "    \n",
    "\n"
   ]
  },
  {
   "cell_type": "markdown",
   "id": "0caa8be0",
   "metadata": {},
   "source": [
    "Vemos que conforme el número la dimensión aumenta, el número de iteraciones también lo hace. También se observa que cuando el algoritmo encuentra un punto cercano al mínimo local $(-1, 1, 1, \\ldots, 1)$, el gradiente no es muy cercano a cero. "
   ]
  },
  {
   "cell_type": "markdown",
   "id": "2c3d135f",
   "metadata": {},
   "source": [
    "## Prueba 4\n",
    "\n",
    "Ahora usaremos el método con la función cuadrática utilizada en la tarea 8 del curso\n",
    "\\begin{align*}\n",
    "    f(x) = \\frac{1}{2}x^TAx - b^Tx\n",
    "\\end{align*}\n",
    "donde $A=nI_n + N$ con $N$ es la matriz de puros 1 y $b$ el vector de unos.\n",
    "\n",
    "Realizaremos lo análogo a la prueba 3. Para generar el simplejo inicial se generaran $n+1$ vectores con entradas aleatorias de manera uniforme en el intervalo $[0, 1/2]$.\n",
    "\n"
   ]
  },
  {
   "cell_type": "code",
   "execution_count": 7,
   "id": "bca36497",
   "metadata": {},
   "outputs": [
    {
     "name": "stdout",
     "output_type": "stream",
     "text": [
      "\tFuncion cuadrática programada:\n",
      "n =  5\n",
      "Mejor vértice: \n",
      "[0.100007   0.10000373 0.10000448 0.09996792 0.09996077]\n",
      "f(x_1) =  -0.24999999179743093\n",
      "||g(x_1)|| =  0.0003369088746209534\n",
      "Numero de iteraciones:  29 \n",
      "\n",
      "\n",
      "n =  10\n",
      "Mejor vértice: \n",
      "[ 0.05000841288401527   0.050014758778509597   0.05002282265830451   0.0499922463377754  ...  0.050014373603759404   0.05001017856939931   0.04996800913027409   0.05001164723950208 ]\n",
      "f(x_1) =  -0.2499999845138433\n",
      "||g(x_1)|| =  0.0005570239308653123\n",
      "Numero de iteraciones:  29 \n",
      "\n",
      "\n",
      "n =  15\n",
      "Mejor vértice: \n",
      "[ 0.03332967702163927   0.033340527385827295   0.0333456597617344   0.033321164170109066  ...  0.03333998357281782   0.033327179394409955   0.033344534476128486   0.03333618827117228 ]\n",
      "f(x_1) =  -0.24999999426196307\n",
      "||g(x_1)|| =  0.00042249408566604445\n",
      "Numero de iteraciones:  29 \n",
      "\n",
      "\n",
      "n =  20\n",
      "Mejor vértice: \n",
      "[ 0.0250176756258619   0.025013160127062454   0.025021471507414482   0.025001553419459463  ...  0.024985790448877422   0.024981675995431028   0.025007823542760273   0.024992353619450465 ]\n",
      "f(x_1) =  -0.24999996835123428\n",
      "||g(x_1)|| =  0.0012020596006003695\n",
      "Numero de iteraciones:  29 \n",
      "\n",
      "\n",
      "n =  25\n",
      "Mejor vértice: \n",
      "[ 0.020106132181030315   0.020265786144149533   0.020361155821227626   0.020210869046700757  ...  0.020026223379016488   0.020043027968605957   0.019758821937787586   0.020034089863563642 ]\n",
      "f(x_1) =  -0.24997957383572184\n",
      "||g(x_1)|| =  0.032125690262012646\n",
      "Numero de iteraciones:  29 \n",
      "\n",
      "\n",
      "n =  30\n",
      "Mejor vértice: \n",
      "[ 0.02110421824959726   0.015477403240597334   0.020018661827967514   0.011845421942399388  ...  0.01418639106482204   0.01702493143043427   0.011662720249040852   0.018587423430327203 ]\n",
      "f(x_1) =  -0.23604642637455525\n",
      "||g(x_1)|| =  0.9151821559937302\n",
      "Numero de iteraciones:  29 \n",
      "\n",
      "\n"
     ]
    }
   ],
   "source": [
    "def f(x):\n",
    "    n = len(x)\n",
    "    A = n*np.identity(n) + np.ones((n, n))\n",
    "    b = np.ones(n)\n",
    "    return (1/2)*np.matmul(x, np.matmul(A, x)) - np.matmul(b, x)\n",
    "\n",
    "def grad_f(x):\n",
    "    n = len(x)\n",
    "    A = n*np.identity(n) + np.ones((n, n))\n",
    "    b = np.ones(n)\n",
    "    return np.matmul(A, x) - b\n",
    "\n",
    "\n",
    "print(\"\\tFuncion cuadrática programada:\")\n",
    "for n in [5, 10, 15, 20, 25, 30]:\n",
    "    print(\"n = \", n)\n",
    "    S = []\n",
    "    for j in range(n+1):\n",
    "        S.append(uniform.rvs(loc = 0, scale = 0.5, size = n))\n",
    "    S = np.array(S)\n",
    "    sol = Nelder_Mead(S, f, 1000000)\n",
    "    print(\"Mejor vértice: \")\n",
    "    imprimir_vec(sol[0][0])\n",
    "    print(\"f(x_1) = \", f(sol[0][0]))\n",
    "    print(\"||g(x_1)|| = \", np.linalg.norm( grad_f(sol[0][0]) ))\n",
    "    print(\"Numero de iteraciones: \", k, \"\\n\\n\")"
   ]
  },
  {
   "cell_type": "markdown",
   "id": "ac8d726c",
   "metadata": {},
   "source": [
    "Se ve en este caso que en este caso el número de iteraciones no se vió afectado por la dimensión del espacio. Sin embargo la presición de la solución si se vió afectada por la dimensión. Asimismo se puede observar que el método de Nelder-Mead no tiene éxito siempre en el caso $n=30$, esto dependiendo de los valores aleatorios iniciales."
   ]
  },
  {
   "cell_type": "markdown",
   "id": "c12c41e5",
   "metadata": {},
   "source": [
    "## Conclusiones\n",
    "\n",
    "El algoritmo de Nelder-Mead no garantiza la convergencia a un punto optimo de la función objetivo. Como lo ilustra el ejemplo anterior, el método a veces falla. Una desventaja del método es que en vez de utilizar una aproximación al punto optimo, este utiliza $n+1$ aproximaciones al punto optimo. Por otra parte el algoritmo tiene otras varias ventajas como lo es ser uno de los métodos de optimización sin derivadas. En los ejemplos anteriores se vió además que no se necesitó una gran cantidad de iteraciones en cada prueba. En este proyecto se fijaron los valores de $\\mu_r, \\mu_e, \\mu_{oc}, \\mu_{ic}$ y $\\sigma$ a los valores usuales anteriormente descritos. Se puede jugar con dichos parámetros dependiendo de la función objetivo para conseguir mejores resultados."
   ]
  },
  {
   "cell_type": "markdown",
   "id": "80d36f55",
   "metadata": {},
   "source": [
    "## Referencias\n",
    "\n"
   ]
  },
  {
   "cell_type": "markdown",
   "id": "44347153",
   "metadata": {},
   "source": [
    "1. Kelley, C.. (1999). The Nelder-Mead Algorithm. En Iterative Methods for Optimization(pp. 135-137). Raleigh: siam. \n",
    "2. Nocedal, J., Wright, S.. (2000). Numerical Optimization. USA: Springer.\n",
    "3. Wikipedia. (2022). Nelder–Mead method. junio 6, 2022, de Wikipedia Sitio web: https://en.wikipedia.org/wiki/Nelder%E2%80%93Mead_method"
   ]
  }
 ],
 "metadata": {
  "kernelspec": {
   "display_name": "Python 3 (ipykernel)",
   "language": "python",
   "name": "python3"
  },
  "language_info": {
   "codemirror_mode": {
    "name": "ipython",
    "version": 3
   },
   "file_extension": ".py",
   "mimetype": "text/x-python",
   "name": "python",
   "nbconvert_exporter": "python",
   "pygments_lexer": "ipython3",
   "version": "3.10.4"
  }
 },
 "nbformat": 4,
 "nbformat_minor": 5
}
